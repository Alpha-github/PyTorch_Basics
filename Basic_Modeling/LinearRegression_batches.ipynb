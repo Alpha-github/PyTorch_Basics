{
 "cells": [
  {
   "cell_type": "code",
   "execution_count": 1,
   "metadata": {},
   "outputs": [],
   "source": [
    "import torch\n",
    "import torch.nn as nn\n",
    "import numpy as np\n",
    "import pandas as pd\n",
    "import seaborn as sns\n",
    "from matplotlib import pyplot as plt\n",
    "import time\n",
    "from torch.utils.data import Dataset, DataLoader\n",
    "import random\n",
    "random.seed(42)\n"
   ]
  },
  {
   "cell_type": "code",
   "execution_count": 2,
   "metadata": {},
   "outputs": [
    {
     "data": {
      "text/plain": [
       "(32, 12)"
      ]
     },
     "execution_count": 2,
     "metadata": {},
     "output_type": "execute_result"
    }
   ],
   "source": [
    "df = pd.read_csv(\n",
    "    \"https://gist.githubusercontent.com/noamross/e5d3e859aa0c794be10b/raw/b999fb4425b54c63cab088c0ce2c0d6ce961a563/cars.csv\")\n",
    "df.shape\n"
   ]
  },
  {
   "cell_type": "code",
   "execution_count": 3,
   "metadata": {},
   "outputs": [
    {
     "data": {
      "text/plain": [
       "(tensor([2.6200, 2.8750, 2.3200, 3.2150, 3.4400, 3.4600, 3.5700, 3.1900, 3.1500,\n",
       "         3.4400, 3.4400, 4.0700, 3.7300, 3.7800, 5.2500, 5.4240, 5.3450, 2.2000,\n",
       "         1.6150, 1.8350, 2.4650, 3.5200, 3.4350, 3.8400, 3.8450, 1.9350, 2.1400,\n",
       "         1.5130, 3.1700, 2.7700, 3.5700, 2.7800]),\n",
       " tensor([21.0000, 21.0000, 22.8000, 21.4000, 18.7000, 18.1000, 14.3000, 24.4000,\n",
       "         22.8000, 19.2000, 17.8000, 16.4000, 17.3000, 15.2000, 10.4000, 10.4000,\n",
       "         14.7000, 32.4000, 30.4000, 33.9000, 21.5000, 15.5000, 15.2000, 13.3000,\n",
       "         19.2000, 27.3000, 26.0000, 30.4000, 15.8000, 19.7000, 15.0000, 21.4000]),\n",
       " array([2.62 , 2.875, 2.32 , 3.215, 3.44 , 3.46 , 3.57 , 3.19 , 3.15 ,\n",
       "        3.44 , 3.44 , 4.07 , 3.73 , 3.78 , 5.25 , 5.424, 5.345, 2.2  ,\n",
       "        1.615, 1.835, 2.465, 3.52 , 3.435, 3.84 , 3.845, 1.935, 2.14 ,\n",
       "        1.513, 3.17 , 2.77 , 3.57 , 2.78 ], dtype=float32),\n",
       " array([21. , 21. , 22.8, 21.4, 18.7, 18.1, 14.3, 24.4, 22.8, 19.2, 17.8,\n",
       "        16.4, 17.3, 15.2, 10.4, 10.4, 14.7, 32.4, 30.4, 33.9, 21.5, 15.5,\n",
       "        15.2, 13.3, 19.2, 27.3, 26. , 30.4, 15.8, 19.7, 15. , 21.4],\n",
       "       dtype=float32))"
      ]
     },
     "execution_count": 3,
     "metadata": {},
     "output_type": "execute_result"
    }
   ],
   "source": [
    "X = torch.tensor(df.wt.values, dtype=torch.float32)\n",
    "y = torch.tensor(df.mpg.values, dtype=torch.float32)\n",
    "x_np = np.array(X)\n",
    "y_np = np.array(y)\n",
    "X = torch.from_numpy(x_np)\n",
    "y = torch.from_numpy(y_np)\n",
    "X, y, x_np, y_np\n"
   ]
  },
  {
   "cell_type": "code",
   "execution_count": 4,
   "metadata": {},
   "outputs": [],
   "source": [
    "# Dataset and Dataloader\n",
    "\n",
    "class LinearRegressionDataset(Dataset):\n",
    "    def __init__(self, X, y):\n",
    "        self.X = X\n",
    "        self.y = y\n",
    "\n",
    "    def __len__(self):\n",
    "        return len(self.X)\n",
    "\n",
    "    def __getitem__(self, index):\n",
    "        return self.X[index], self.y[index]\n",
    "\n",
    "\n",
    "train_loader = DataLoader(LinearRegressionDataset(x_np.reshape(-1,1), y_np.reshape(-1,1)), batch_size=2)\n"
   ]
  },
  {
   "cell_type": "code",
   "execution_count": 5,
   "metadata": {},
   "outputs": [
    {
     "data": {
      "text/plain": [
       "<AxesSubplot:>"
      ]
     },
     "execution_count": 5,
     "metadata": {},
     "output_type": "execute_result"
    },
    {
     "data": {
      "image/png": "[encoded data removed]",
      "text/plain": [
       "<Figure size 432x288 with 1 Axes>"
      ]
     },
     "metadata": {
      "needs_background": "light"
     },
     "output_type": "display_data"
    }
   ],
   "source": [
    "from sklearn.linear_model import LinearRegression\n",
    "regressor = LinearRegression().fit(x_np.reshape(-1, 1), y_np.reshape(-1, 1))\n",
    "# sns.regplot(data=df)\n",
    "y_sk = regressor.coef_[0]*x_np + regressor.intercept_\n",
    "sns.scatterplot(x=x_np, y=y_np)\n",
    "sns.lineplot(x=x_np, y=y_sk, color=\"red\")\n"
   ]
  },
  {
   "cell_type": "code",
   "execution_count": 6,
   "metadata": {},
   "outputs": [],
   "source": [
    "class LinearReg(nn.Module):\n",
    "    def __init__(self):\n",
    "        super().__init__()\n",
    "        self.linear = nn.Linear(1, 1)\n",
    "\n",
    "    def forward(self, X):\n",
    "        pred = self.linear(X)\n",
    "        return pred\n"
   ]
  },
  {
   "cell_type": "code",
   "execution_count": 7,
   "metadata": {},
   "outputs": [
    {
     "name": "stdout",
     "output_type": "stream",
     "text": [
      "0th batch\n",
      "tensor([[2.6200],\n",
      "        [2.8750]]) tensor([[21.],\n",
      "        [21.]])\n",
      "1th batch\n",
      "tensor([[2.3200],\n",
      "        [3.2150]]) tensor([[22.8000],\n",
      "        [21.4000]])\n",
      "2th batch\n",
      "tensor([[3.4400],\n",
      "        [3.4600]]) tensor([[18.7000],\n",
      "        [18.1000]])\n",
      "3th batch\n",
      "tensor([[3.5700],\n",
      "        [3.1900]]) tensor([[14.3000],\n",
      "        [24.4000]])\n",
      "4th batch\n",
      "tensor([[3.1500],\n",
      "        [3.4400]]) tensor([[22.8000],\n",
      "        [19.2000]])\n",
      "5th batch\n",
      "tensor([[3.4400],\n",
      "        [4.0700]]) tensor([[17.8000],\n",
      "        [16.4000]])\n",
      "6th batch\n",
      "tensor([[3.7300],\n",
      "        [3.7800]]) tensor([[17.3000],\n",
      "        [15.2000]])\n",
      "7th batch\n",
      "tensor([[5.2500],\n",
      "        [5.4240]]) tensor([[10.4000],\n",
      "        [10.4000]])\n",
      "8th batch\n",
      "tensor([[5.3450],\n",
      "        [2.2000]]) tensor([[14.7000],\n",
      "        [32.4000]])\n",
      "9th batch\n",
      "tensor([[1.6150],\n",
      "        [1.8350]]) tensor([[30.4000],\n",
      "        [33.9000]])\n",
      "10th batch\n",
      "tensor([[2.4650],\n",
      "        [3.5200]]) tensor([[21.5000],\n",
      "        [15.5000]])\n",
      "11th batch\n",
      "tensor([[3.4350],\n",
      "        [3.8400]]) tensor([[15.2000],\n",
      "        [13.3000]])\n",
      "12th batch\n",
      "tensor([[3.8450],\n",
      "        [1.9350]]) tensor([[19.2000],\n",
      "        [27.3000]])\n",
      "13th batch\n",
      "tensor([[2.1400],\n",
      "        [1.5130]]) tensor([[26.0000],\n",
      "        [30.4000]])\n",
      "14th batch\n",
      "tensor([[3.1700],\n",
      "        [2.7700]]) tensor([[15.8000],\n",
      "        [19.7000]])\n",
      "15th batch\n",
      "tensor([[3.5700],\n",
      "        [2.7800]]) tensor([[15.0000],\n",
      "        [21.4000]])\n"
     ]
    }
   ],
   "source": [
    "# Check trainer loader\n",
    "for pos, (xi, yi) in enumerate(train_loader):\n",
    "    print(str(pos) + \"th batch\")\n",
    "    print(xi, yi)\n",
    "    # break\n"
   ]
  },
  {
   "cell_type": "code",
   "execution_count": 8,
   "metadata": {},
   "outputs": [],
   "source": [
    "# # Manually Apply Batch Size\n",
    "# model = LinearReg()\n",
    "# lr = 0.005\n",
    "# epochs = 1000\n",
    "\n",
    "# loss_func = nn.MSELoss()\n",
    "# optimizer = torch.optim.SGD(model.parameters(),lr=lr)\n",
    "\n",
    "# losses = []\n",
    "# slopes =[]\n",
    "# biases=[]\n",
    "# batch_size = 2\n",
    "\n",
    "# for epoch in range(epochs):\n",
    "#     for i in range(0, X.reshape(-1,1).shape[0], batch_size):\n",
    "#         optimizer.zero_grad()\n",
    "\n",
    "#         #fwd pass\n",
    "#         pred = model(X.reshape(-1,1)[i:i+batch_size])\n",
    "\n",
    "#         # loss\n",
    "#         loss = loss_func(pred,y[i:i+batch_size])\n",
    "#         loss.backward()\n",
    "#         #bwd pass\n",
    "#         optimizer.step()\n",
    "\n",
    "#         losses.append(loss.item())\n",
    "#         for name, params in model.named_parameters():\n",
    "#             if params.requires_grad:\n",
    "#                 if name == \"linear.weight\":\n",
    "#                     slopes.append(params.data.numpy()[0][0])\n",
    "#                 if name == \"linear.bias\":\n",
    "#                     biases.append(params.data.numpy()[0])\n",
    "\n",
    "#     if((epoch+1)%100==0):\n",
    "#         print(f\"Epoch:{epoch+1}, Loss:{loss}\")\n"
   ]
  },
  {
   "cell_type": "code",
   "execution_count": 9,
   "metadata": {},
   "outputs": [
    {
     "data": {
      "text/plain": [
       "tensor([2.6200, 2.8750, 2.3200, 3.2150, 3.4400, 3.4600, 3.5700, 3.1900, 3.1500,\n",
       "        3.4400, 3.4400, 4.0700, 3.7300, 3.7800, 5.2500, 5.4240, 5.3450, 2.2000,\n",
       "        1.6150, 1.8350, 2.4650, 3.5200, 3.4350, 3.8400, 3.8450, 1.9350, 2.1400,\n",
       "        1.5130, 3.1700, 2.7700, 3.5700, 2.7800])"
      ]
     },
     "execution_count": 9,
     "metadata": {},
     "output_type": "execute_result"
    }
   ],
   "source": [
    "X"
   ]
  },
  {
   "cell_type": "code",
   "execution_count": 10,
   "metadata": {},
   "outputs": [
    {
     "name": "stdout",
     "output_type": "stream",
     "text": [
      "Epoch:100, Loss:1.5791229009628296\n",
      "Epoch:200, Loss:1.4116747379302979\n",
      "Epoch:300, Loss:1.4094361066818237\n",
      "Epoch:400, Loss:1.409427285194397\n",
      "Epoch:500, Loss:1.409427285194397\n",
      "Epoch:600, Loss:1.409427285194397\n",
      "Epoch:700, Loss:1.409427285194397\n",
      "Epoch:800, Loss:1.409427285194397\n",
      "Epoch:900, Loss:1.409427285194397\n",
      "Epoch:1000, Loss:1.409427285194397\n"
     ]
    }
   ],
   "source": [
    "# Batch Training with train loader\n",
    "model = LinearReg()\n",
    "lr = 0.02\n",
    "epochs = 1000\n",
    "\n",
    "loss_func = nn.MSELoss()\n",
    "optimizer = torch.optim.SGD(model.parameters(), lr=lr)\n",
    "\n",
    "losses = []\n",
    "slopes = []\n",
    "biases = []\n",
    "\n",
    "for epoch in range(epochs):\n",
    "    for i, (xi, yi) in enumerate(train_loader):\n",
    "\n",
    "        # CLear the gradients to prevent accumulation of grads\n",
    "        # For each forward and backward pass, gradients need to be cleared\n",
    "        optimizer.zero_grad()\n",
    "\n",
    "        # fwd pass\n",
    "        pred = model(xi)\n",
    "\n",
    "        # loss\n",
    "        loss = loss_func(pred, yi)\n",
    "        losses.append(loss.item())\n",
    "\n",
    "        # backward pass\n",
    "        loss.backward()\n",
    "\n",
    "        # update weights\n",
    "        optimizer.step()\n",
    "\n",
    "        for name, params in model.named_parameters():\n",
    "            if params.requires_grad:\n",
    "                if name == \"linear.weight\":\n",
    "                    slopes.append(params.data.numpy()[0][0])\n",
    "                if name == \"linear.bias\":\n",
    "                    biases.append(params.data.numpy()[0])\n",
    "\n",
    "    if ((epoch+1) % 100 == 0):\n",
    "        print(f\"Epoch:{epoch+1}, Loss:{loss}\")\n"
   ]
  },
  {
   "cell_type": "code",
   "execution_count": 11,
   "metadata": {},
   "outputs": [
    {
     "data": {
      "text/plain": [
       "<AxesSubplot:>"
      ]
     },
     "execution_count": 11,
     "metadata": {},
     "output_type": "execute_result"
    },
    {
     "data": {
      "image/png": "[encoded data removed]",
      "text/plain": [
       "<Figure size 432x288 with 1 Axes>"
      ]
     },
     "metadata": {
      "needs_background": "light"
     },
     "output_type": "display_data"
    }
   ],
   "source": [
    "y_pred = slopes[-1]*x_np + biases[-1]\n",
    "sns.lineplot(x=x_np, y=y_pred, color=\"green\")\n",
    "sns.scatterplot(x=x_np, y=y_np)\n"
   ]
  },
  {
   "cell_type": "code",
   "execution_count": 17,
   "metadata": {},
   "outputs": [
    {
     "data": {
      "text/plain": [
       "OrderedDict([('linear.weight', tensor([[-5.7225]])),\n",
       "             ('linear.bias', tensor([36.6935]))])"
      ]
     },
     "execution_count": 17,
     "metadata": {},
     "output_type": "execute_result"
    }
   ],
   "source": [
    "model.state_dict()"
   ]
  },
  {
   "cell_type": "code",
   "execution_count": 21,
   "metadata": {},
   "outputs": [
    {
     "name": "stdout",
     "output_type": "stream",
     "text": [
      "LinearReg(\n",
      "  (linear): Linear(in_features=1, out_features=1, bias=True)\n",
      ")\n"
     ]
    },
    {
     "data": {
      "image/svg+xml": "<?xml version=\"1.0\" encoding=\"UTF-8\" standalone=\"no\"?>\n<!DOCTYPE svg PUBLIC \"-//W3C//DTD SVG 1.1//EN\"\n \"http://www.w3.org/Graphics/SVG/1.1/DTD/svg11.dtd\">\n<!-- Generated by graphviz version 7.1.0 (20230121.1956)\n -->\n<!-- Pages: 1 -->\n<svg width=\"218pt\" height=\"281pt\"\n viewBox=\"0.00 0.00 218.00 281.00\" xmlns=\"http://www.w3.org/2000/svg\" xmlns:xlink=\"http://www.w3.org/1999/xlink\">\n<g id=\"graph0\" class=\"graph\" transform=\"scale(1 1) rotate(0) translate(4 277)\">\n<polygon fill=\"white\" stroke=\"none\" points=\"-4,4 -4,-277 214,-277 214,4 -4,4\"/>\n<!-- 1695966666400 -->\n<g id=\"node1\" class=\"node\">\n<title>1695966666400</title>\n<polygon fill=\"#caff70\" stroke=\"black\" points=\"137,-31 72,-31 72,0 137,0 137,-31\"/>\n<text text-anchor=\"middle\" x=\"104.5\" y=\"-7\" font-family=\"monospace\" font-size=\"10.00\"> (32, 1)</text>\n</g>\n<!-- 1695966627440 -->\n<g id=\"node2\" class=\"node\">\n<title>1695966627440</title>\n<polygon fill=\"lightgrey\" stroke=\"black\" points=\"155,-86 54,-86 54,-67 155,-67 155,-86\"/>\n<text text-anchor=\"middle\" x=\"104.5\" y=\"-74\" font-family=\"monospace\" font-size=\"10.00\">AddmmBackward0</text>\n</g>\n<!-- 1695966627440&#45;&gt;1695966666400 -->\n<g id=\"edge6\" class=\"edge\">\n<title>1695966627440&#45;&gt;1695966666400</title>\n<path fill=\"none\" stroke=\"black\" d=\"M104.5,-66.54C104.5,-60.07 104.5,-50.98 104.5,-42.32\"/>\n<polygon fill=\"black\" stroke=\"black\" points=\"108,-42.58 104.5,-32.58 101,-42.58 108,-42.58\"/>\n</g>\n<!-- 1695966627680 -->\n<g id=\"node3\" class=\"node\">\n<title>1695966627680</title>\n<polygon fill=\"lightgrey\" stroke=\"black\" points=\"101,-141 0,-141 0,-122 101,-122 101,-141\"/>\n<text text-anchor=\"middle\" x=\"50.5\" y=\"-129\" font-family=\"monospace\" font-size=\"10.00\">AccumulateGrad</text>\n</g>\n<!-- 1695966627680&#45;&gt;1695966627440 -->\n<g id=\"edge1\" class=\"edge\">\n<title>1695966627680&#45;&gt;1695966627440</title>\n<path fill=\"none\" stroke=\"black\" d=\"M59.42,-121.75C66.95,-114.35 77.97,-103.54 87.23,-94.45\"/>\n<polygon fill=\"black\" stroke=\"black\" points=\"89.62,-97 94.31,-87.5 84.72,-92.01 89.62,-97\"/>\n</g>\n<!-- 1695862967728 -->\n<g id=\"node4\" class=\"node\">\n<title>1695862967728</title>\n<polygon fill=\"lightblue\" stroke=\"black\" points=\"91,-207 8,-207 8,-177 91,-177 91,-207\"/>\n<text text-anchor=\"middle\" x=\"49.5\" y=\"-195\" font-family=\"monospace\" font-size=\"10.00\">linear.bias</text>\n<text text-anchor=\"middle\" x=\"49.5\" y=\"-184\" font-family=\"monospace\" font-size=\"10.00\"> (1)</text>\n</g>\n<!-- 1695862967728&#45;&gt;1695966627680 -->\n<g id=\"edge2\" class=\"edge\">\n<title>1695862967728&#45;&gt;1695966627680</title>\n<path fill=\"none\" stroke=\"black\" d=\"M49.75,-176.54C49.87,-169.34 50.02,-160.53 50.16,-152.68\"/>\n<polygon fill=\"black\" stroke=\"black\" points=\"53.65,-152.75 50.33,-142.69 46.66,-152.63 53.65,-152.75\"/>\n</g>\n<!-- 1695966628304 -->\n<g id=\"node5\" class=\"node\">\n<title>1695966628304</title>\n<polygon fill=\"lightgrey\" stroke=\"black\" points=\"197,-141 120,-141 120,-122 197,-122 197,-141\"/>\n<text text-anchor=\"middle\" x=\"158.5\" y=\"-129\" font-family=\"monospace\" font-size=\"10.00\">TBackward0</text>\n</g>\n<!-- 1695966628304&#45;&gt;1695966627440 -->\n<g id=\"edge3\" class=\"edge\">\n<title>1695966628304&#45;&gt;1695966627440</title>\n<path fill=\"none\" stroke=\"black\" d=\"M149.58,-121.75C142.05,-114.35 131.03,-103.54 121.77,-94.45\"/>\n<polygon fill=\"black\" stroke=\"black\" points=\"124.28,-92.01 114.69,-87.5 119.38,-97 124.28,-92.01\"/>\n</g>\n<!-- 1695966627728 -->\n<g id=\"node6\" class=\"node\">\n<title>1695966627728</title>\n<polygon fill=\"lightgrey\" stroke=\"black\" points=\"210,-201.5 109,-201.5 109,-182.5 210,-182.5 210,-201.5\"/>\n<text text-anchor=\"middle\" x=\"159.5\" y=\"-189.5\" font-family=\"monospace\" font-size=\"10.00\">AccumulateGrad</text>\n</g>\n<!-- 1695966627728&#45;&gt;1695966628304 -->\n<g id=\"edge4\" class=\"edge\">\n<title>1695966627728&#45;&gt;1695966628304</title>\n<path fill=\"none\" stroke=\"black\" d=\"M159.35,-182.37C159.22,-174.5 159.01,-162.6 158.84,-152.39\"/>\n<polygon fill=\"black\" stroke=\"black\" points=\"162.34,-152.62 158.67,-142.68 155.35,-152.74 162.34,-152.62\"/>\n</g>\n<!-- 1695862172304 -->\n<g id=\"node7\" class=\"node\">\n<title>1695862172304</title>\n<polygon fill=\"lightblue\" stroke=\"black\" points=\"207,-273 112,-273 112,-243 207,-243 207,-273\"/>\n<text text-anchor=\"middle\" x=\"159.5\" y=\"-261\" font-family=\"monospace\" font-size=\"10.00\">linear.weight</text>\n<text text-anchor=\"middle\" x=\"159.5\" y=\"-250\" font-family=\"monospace\" font-size=\"10.00\"> (1, 1)</text>\n</g>\n<!-- 1695862172304&#45;&gt;1695966627728 -->\n<g id=\"edge5\" class=\"edge\">\n<title>1695862172304&#45;&gt;1695966627728</title>\n<path fill=\"none\" stroke=\"black\" d=\"M159.5,-242.8C159.5,-234.09 159.5,-222.81 159.5,-213.18\"/>\n<polygon fill=\"black\" stroke=\"black\" points=\"163,-213.36 159.5,-203.36 156,-213.36 163,-213.36\"/>\n</g>\n</g>\n</svg>\n",
      "text/plain": [
       "<graphviz.graphs.Digraph at 0x18adf7d08b0>"
      ]
     },
     "execution_count": 21,
     "metadata": {},
     "output_type": "execute_result"
    }
   ],
   "source": [
    "# Display Model Architecture\n",
    "print(model)\n",
    "from torchviz import make_dot\n",
    "make_dot(model(torch.from_numpy(x_np.reshape(-1,1))), params=dict(model.named_parameters()))"
   ]
  },
  {
   "cell_type": "code",
   "execution_count": 24,
   "metadata": {},
   "outputs": [],
   "source": [
    "# Save Model\n",
    "torch.save(model.state_dict(),\"./LinRegBatch.pth\")\n",
    "\n",
    "# NOTE:\n",
    "# Why save only the State Dict and not the entire Model?\n",
    "# The entire model stores the dataset paths as well, which will change from system to system. \n",
    "# Hence when training on different sys, it may cause a problem\n",
    "# State_dict has only learnable parameters and registered buffers(batch norm)"
   ]
  },
  {
   "cell_type": "code",
   "execution_count": 25,
   "metadata": {},
   "outputs": [
    {
     "data": {
      "text/plain": [
       "OrderedDict([('linear.weight', tensor([[-5.7225]])),\n",
       "             ('linear.bias', tensor([36.6935]))])"
      ]
     },
     "execution_count": 25,
     "metadata": {},
     "output_type": "execute_result"
    }
   ],
   "source": [
    "# Load Model\n",
    "model = LinearReg()\n",
    "model.load_state_dict(torch.load(\"LinRegBatch.pth\")) # pth can also be used as an extension; pth(pytorch)\n",
    "model.state_dict()"
   ]
  }
 ],
 "metadata": {
  "kernelspec": {
   "display_name": "Python 3",
   "language": "python",
   "name": "python3"
  },
  "language_info": {
   "codemirror_mode": {
    "name": "ipython",
    "version": 3
   },
   "file_extension": ".py",
   "mimetype": "text/x-python",
   "name": "python",
   "nbconvert_exporter": "python",
   "pygments_lexer": "ipython3",
   "version": "3.9.10"
  },
  "orig_nbformat": 4,
  "vscode": {
   "interpreter": {
    "hash": "aac16c045827a40694571c32a5eab65b3bafe70755c551bce7e5d51e33df358c"
   }
  }
 },
 "nbformat": 4,
 "nbformat_minor": 2
}
