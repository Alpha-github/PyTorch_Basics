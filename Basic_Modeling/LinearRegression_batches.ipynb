{
 "cells": [
  {
   "cell_type": "code",
   "execution_count": 1,
   "metadata": {},
   "outputs": [],
   "source": [
    "import torch\n",
    "import torch.nn as nn\n",
    "import numpy as np\n",
    "import pandas as pd\n",
    "import seaborn as sns\n",
    "from matplotlib import pyplot as plt\n",
    "import time"
   ]
  },
  {
   "cell_type": "code",
   "execution_count": 2,
   "metadata": {},
   "outputs": [
    {
     "data": {
      "text/plain": [
       "(32, 12)"
      ]
     },
     "execution_count": 2,
     "metadata": {},
     "output_type": "execute_result"
    }
   ],
   "source": [
    "df = pd.read_csv(\"https://gist.githubusercontent.com/noamross/e5d3e859aa0c794be10b/raw/b999fb4425b54c63cab088c0ce2c0d6ce961a563/cars.csv\")\n",
    "df.shape"
   ]
  },
  {
   "cell_type": "code",
   "execution_count": 3,
   "metadata": {},
   "outputs": [
    {
     "data": {
      "text/plain": [
       "(tensor([2.6200, 2.8750, 2.3200, 3.2150, 3.4400, 3.4600, 3.5700, 3.1900, 3.1500,\n",
       "         3.4400, 3.4400, 4.0700, 3.7300, 3.7800, 5.2500, 5.4240, 5.3450, 2.2000,\n",
       "         1.6150, 1.8350, 2.4650, 3.5200, 3.4350, 3.8400, 3.8450, 1.9350, 2.1400,\n",
       "         1.5130, 3.1700, 2.7700, 3.5700, 2.7800]),\n",
       " tensor([21.0000, 21.0000, 22.8000, 21.4000, 18.7000, 18.1000, 14.3000, 24.4000,\n",
       "         22.8000, 19.2000, 17.8000, 16.4000, 17.3000, 15.2000, 10.4000, 10.4000,\n",
       "         14.7000, 32.4000, 30.4000, 33.9000, 21.5000, 15.5000, 15.2000, 13.3000,\n",
       "         19.2000, 27.3000, 26.0000, 30.4000, 15.8000, 19.7000, 15.0000, 21.4000]),\n",
       " array([2.62 , 2.875, 2.32 , 3.215, 3.44 , 3.46 , 3.57 , 3.19 , 3.15 ,\n",
       "        3.44 , 3.44 , 4.07 , 3.73 , 3.78 , 5.25 , 5.424, 5.345, 2.2  ,\n",
       "        1.615, 1.835, 2.465, 3.52 , 3.435, 3.84 , 3.845, 1.935, 2.14 ,\n",
       "        1.513, 3.17 , 2.77 , 3.57 , 2.78 ], dtype=float32),\n",
       " array([21. , 21. , 22.8, 21.4, 18.7, 18.1, 14.3, 24.4, 22.8, 19.2, 17.8,\n",
       "        16.4, 17.3, 15.2, 10.4, 10.4, 14.7, 32.4, 30.4, 33.9, 21.5, 15.5,\n",
       "        15.2, 13.3, 19.2, 27.3, 26. , 30.4, 15.8, 19.7, 15. , 21.4],\n",
       "       dtype=float32))"
      ]
     },
     "execution_count": 3,
     "metadata": {},
     "output_type": "execute_result"
    }
   ],
   "source": [
    "X = torch.tensor(df.wt.values,dtype=torch.float32)\n",
    "y = torch.tensor(df.mpg.values,dtype=torch.float32)\n",
    "x_np = np.array(X)\n",
    "y_np = np.array(y)\n",
    "X,y,x_np,y_np"
   ]
  },
  {
   "cell_type": "code",
   "execution_count": 4,
   "metadata": {},
   "outputs": [
    {
     "data": {
      "text/plain": [
       "<AxesSubplot:>"
      ]
     },
     "execution_count": 4,
     "metadata": {},
     "output_type": "execute_result"
    },
    {
     "data": {
      "image/png": "[encoded data removed]",
      "text/plain": [
       "<Figure size 432x288 with 1 Axes>"
      ]
     },
     "metadata": {
      "needs_background": "light"
     },
     "output_type": "display_data"
    }
   ],
   "source": [
    "from sklearn.linear_model import LinearRegression\n",
    "regressor = LinearRegression().fit(x_np.reshape(-1,1),y_np)\n",
    "# sns.regplot(data=df)\n",
    "y_sk = regressor.coef_[0]*x_np + regressor.intercept_\n",
    "sns.scatterplot(x=x_np,y=y_np)\n",
    "sns.lineplot(x=x_np,y=y_sk,color=\"red\")\n"
   ]
  },
  {
   "cell_type": "code",
   "execution_count": 5,
   "metadata": {},
   "outputs": [],
   "source": [
    "class LinearReg(nn.Module):\n",
    "    def __init__(self):\n",
    "        super().__init__()\n",
    "        self.linear = nn.Linear(1,1)\n",
    "    \n",
    "    def forward(self,X):\n",
    "        pred = self.linear(X)\n",
    "        return pred"
   ]
  },
  {
   "cell_type": "code",
   "execution_count": 6,
   "metadata": {},
   "outputs": [
    {
     "name": "stderr",
     "output_type": "stream",
     "text": [
      "d:\\Software\\Python\\Python39\\lib\\site-packages\\torch\\nn\\modules\\loss.py:536: UserWarning: Using a target size (torch.Size([2])) that is different to the input size (torch.Size([2, 1])). This will likely lead to incorrect results due to broadcasting. Please ensure they have the same size.\n",
      "  return F.mse_loss(input, target, reduction=self.reduction)\n"
     ]
    },
    {
     "name": "stdout",
     "output_type": "stream",
     "text": [
      "Epoch:100, Loss:14.287769317626953\n",
      "Epoch:200, Loss:14.342024803161621\n",
      "Epoch:300, Loss:14.342818260192871\n",
      "Epoch:400, Loss:14.342824935913086\n",
      "Epoch:500, Loss:14.342824935913086\n",
      "Epoch:600, Loss:14.342824935913086\n",
      "Epoch:700, Loss:14.342824935913086\n",
      "Epoch:800, Loss:14.342824935913086\n",
      "Epoch:900, Loss:14.342824935913086\n",
      "Epoch:1000, Loss:14.342824935913086\n"
     ]
    }
   ],
   "source": [
    "model = LinearReg()\n",
    "lr = 0.02\n",
    "epochs = 1000\n",
    "\n",
    "loss_func = nn.MSELoss()\n",
    "optimizer = torch.optim.SGD(model.parameters(),lr=lr)\n",
    "\n",
    "losses = []\n",
    "slopes =[]\n",
    "biases=[]\n",
    "batch_size = 2\n",
    "\n",
    "for epoch in range(epochs):\n",
    "    for i in range(0, X.reshape(-1,1).shape[0], batch_size):\n",
    "        optimizer.zero_grad()\n",
    "\n",
    "        #fwd pass\n",
    "        pred = model(X.reshape(-1,1)[i:i+batch_size])\n",
    "\n",
    "        # loss\n",
    "        loss = loss_func(pred,y[i:i+batch_size])\n",
    "        loss.backward()\n",
    "        #bwd pass\n",
    "        optimizer.step()\n",
    "\n",
    "        losses.append(loss.item())\n",
    "        for name, params in model.named_parameters():\n",
    "            if params.requires_grad:\n",
    "                if name == \"linear.weight\":\n",
    "                    slopes.append(params.data.numpy()[0][0])\n",
    "                if name == \"linear.bias\":\n",
    "                    biases.append(params.data.numpy()[0])\n",
    "        \n",
    "    if((epoch+1)%100==0):\n",
    "        print(f\"Epoch:{epoch+1}, Loss:{loss}\")"
   ]
  },
  {
   "cell_type": "code",
   "execution_count": 7,
   "metadata": {},
   "outputs": [
    {
     "data": {
      "text/plain": [
       "(16000, 1000)"
      ]
     },
     "execution_count": 7,
     "metadata": {},
     "output_type": "execute_result"
    }
   ],
   "source": [
    "len(losses),len(range(epochs))"
   ]
  },
  {
   "cell_type": "code",
   "execution_count": 9,
   "metadata": {},
   "outputs": [
    {
     "data": {
      "text/plain": [
       "<AxesSubplot:>"
      ]
     },
     "execution_count": 9,
     "metadata": {},
     "output_type": "execute_result"
    },
    {
     "data": {
      "image/png": "[encoded data removed]",
      "text/plain": [
       "<Figure size 432x288 with 1 Axes>"
      ]
     },
     "metadata": {
      "needs_background": "light"
     },
     "output_type": "display_data"
    }
   ],
   "source": [
    "x_range = np.arange(0,epochs,batch_size/df.shape[0])\n",
    "val = 16\n",
    "sns.scatterplot(x=x_range,y=losses)"
   ]
  },
  {
   "cell_type": "code",
   "execution_count": 10,
   "metadata": {},
   "outputs": [
    {
     "data": {
      "text/plain": [
       "<AxesSubplot:>"
      ]
     },
     "execution_count": 10,
     "metadata": {},
     "output_type": "execute_result"
    },
    {
     "data": {
      "image/png": "[encoded data removed]",
      "text/plain": [
       "<Figure size 432x288 with 1 Axes>"
      ]
     },
     "metadata": {
      "needs_background": "light"
     },
     "output_type": "display_data"
    }
   ],
   "source": [
    "sns.lineplot(x=x_range,y=slopes)"
   ]
  }
 ],
 "metadata": {
  "kernelspec": {
   "display_name": "Python 3",
   "language": "python",
   "name": "python3"
  },
  "language_info": {
   "codemirror_mode": {
    "name": "ipython",
    "version": 3
   },
   "file_extension": ".py",
   "mimetype": "text/x-python",
   "name": "python",
   "nbconvert_exporter": "python",
   "pygments_lexer": "ipython3",
   "version": "3.9.10"
  },
  "orig_nbformat": 4,
  "vscode": {
   "interpreter": {
    "hash": "aac16c045827a40694571c32a5eab65b3bafe70755c551bce7e5d51e33df358c"
   }
  }
 },
 "nbformat": 4,
 "nbformat_minor": 2
}
