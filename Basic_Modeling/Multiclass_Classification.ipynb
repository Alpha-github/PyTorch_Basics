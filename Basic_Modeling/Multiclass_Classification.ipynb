{
 "cells": [
  {
   "cell_type": "code",
   "execution_count": 1,
   "metadata": {},
   "outputs": [],
   "source": [
    "import torch\n",
    "from torch.utils.data import Dataset, DataLoader\n",
    "import numpy as np\n",
    "import torch.nn as nn\n",
    "import seaborn as sns\n",
    "from sklearn.datasets import load_iris\n",
    "from sklearn.model_selection import train_test_split\n",
    "from sklearn.metrics import accuracy_score\n"
   ]
  },
  {
   "cell_type": "code",
   "execution_count": 2,
   "metadata": {},
   "outputs": [],
   "source": [
    "iris = load_iris()\n",
    "x = iris.data\n",
    "y = iris.target\n",
    "x_train, x_test, y_train, y_test = train_test_split(x,y,test_size=0.2)"
   ]
  },
  {
   "cell_type": "code",
   "execution_count": 3,
   "metadata": {},
   "outputs": [],
   "source": [
    "x_train = x_train.astype('float32')\n",
    "x_test = x_test.astype('float32')"
   ]
  },
  {
   "cell_type": "code",
   "execution_count": 4,
   "metadata": {},
   "outputs": [
    {
     "data": {
      "text/plain": [
       "<AxesSubplot:>"
      ]
     },
     "execution_count": 4,
     "metadata": {},
     "output_type": "execute_result"
    },
    {
     "data": {
      "image/png": "[encoded data removed]",
      "text/plain": [
       "<Figure size 432x288 with 1 Axes>"
      ]
     },
     "metadata": {
      "needs_background": "light"
     },
     "output_type": "display_data"
    }
   ],
   "source": [
    "sns.scatterplot(x=x_train[:,0], y=x_train[:,1], hue=y_train)"
   ]
  },
  {
   "cell_type": "code",
   "execution_count": 5,
   "metadata": {},
   "outputs": [],
   "source": [
    "class irisData(Dataset):\n",
    "    def __init__(self, x_train, y_train):\n",
    "        super().__init__()\n",
    "        self.x = torch.from_numpy(x_train)\n",
    "        self.y = torch.from_numpy(y_train)\n",
    "        self.y = self.y.type(torch.LongTensor)\n",
    "        self.len = self.x.shape[0]\n",
    "    \n",
    "    def __getitem__(self, index):\n",
    "        return self.x[index], self.y[index]\n",
    "    \n",
    "    def __len__(self):\n",
    "        return self.len"
   ]
  },
  {
   "cell_type": "code",
   "execution_count": 6,
   "metadata": {},
   "outputs": [
    {
     "data": {
      "text/plain": [
       "torch.Size([120, 4])"
      ]
     },
     "execution_count": 6,
     "metadata": {},
     "output_type": "execute_result"
    }
   ],
   "source": [
    "iris_data = irisData(x_train,y_train)\n",
    "training_set = DataLoader(iris_data, batch_size=32)\n",
    "iris_data.x.shape"
   ]
  },
  {
   "cell_type": "code",
   "execution_count": 7,
   "metadata": {},
   "outputs": [],
   "source": [
    "class MultiClassModel(nn.Module):\n",
    "    def __init__(self, num_features, num_classes, hidden_features):\n",
    "        super().__init__()\n",
    "        self.linear1 = nn.Linear(num_features,hidden_features)\n",
    "        self.linear2 = nn.Linear(hidden_features, num_classes)\n",
    "        self.log_softmax = nn.LogSoftmax(dim=1) # dimension to work on rows\n",
    "    \n",
    "    def forward(self,x):\n",
    "        x = self.linear1(x)\n",
    "        x = torch.sigmoid(x)\n",
    "        x = self.linear2(x)\n",
    "        x = self.log_softmax(x)\n",
    "        return x"
   ]
  },
  {
   "cell_type": "code",
   "execution_count": 8,
   "metadata": {},
   "outputs": [],
   "source": [
    "num_features = iris.data.shape[1]\n",
    "num_classes = len(iris_data.y.unique())\n",
    "hidden_features = 64 # num of neurons\n",
    "\n",
    "model = MultiClassModel(num_features,num_classes,hidden_features)\n",
    "\n",
    "lr = 0.1\n",
    "epochs = 100\n",
    "loss_func = nn.CrossEntropyLoss()\n",
    "optimizer = torch.optim.SGD(model.parameters(),lr=lr)\n",
    "\n",
    "losses=[]\n",
    "\n",
    "for epoch in range(epochs):\n",
    "    for x,y in training_set:\n",
    "        optimizer.zero_grad() # initialize grads to 0\n",
    "\n",
    "        yhat = model(x) # forward pass\n",
    "        loss = loss_func(yhat,y) # calc loss\n",
    "        loss.backward() # Calc Gradient\n",
    "        optimizer.step() # update params\n",
    "\n",
    "    losses.append(float(loss.data.detach().numpy()))"
   ]
  },
  {
   "cell_type": "code",
   "execution_count": 9,
   "metadata": {},
   "outputs": [
    {
     "name": "stdout",
     "output_type": "stream",
     "text": [
      "----------------------------------------------------------------\n",
      "        Layer (type)               Output Shape         Param #\n",
      "================================================================\n",
      "            Linear-1               [32, 24, 64]             320\n",
      "            Linear-2                [32, 24, 3]             195\n",
      "        LogSoftmax-3                [32, 24, 3]               0\n",
      "================================================================\n",
      "Total params: 515\n",
      "Trainable params: 515\n",
      "Non-trainable params: 0\n",
      "----------------------------------------------------------------\n",
      "Input size (MB): 0.01\n",
      "Forward/backward pass size (MB): 0.41\n",
      "Params size (MB): 0.00\n",
      "Estimated Total Size (MB): 0.42\n",
      "----------------------------------------------------------------\n"
     ]
    }
   ],
   "source": [
    "from torchsummary import summary\n",
    "summary(model, input_size=x.shape, device='cpu', batch_size=32)\n"
   ]
  },
  {
   "cell_type": "code",
   "execution_count": 10,
   "metadata": {},
   "outputs": [
    {
     "data": {
      "text/plain": [
       "0.9666666666666667"
      ]
     },
     "execution_count": 10,
     "metadata": {},
     "output_type": "execute_result"
    },
    {
     "data": {
      "image/png": "[encoded data removed]",
      "text/plain": [
       "<Figure size 432x288 with 1 Axes>"
      ]
     },
     "metadata": {
      "needs_background": "light"
     },
     "output_type": "display_data"
    }
   ],
   "source": [
    "sns.lineplot(x= range(len(losses)), y = losses)\n",
    "# test the model\n",
    "X_test_torch = torch.from_numpy(x_test)\n",
    "with torch.no_grad():\n",
    "    y_test_hat_softmax = model(X_test_torch)\n",
    "    y_test_hat = torch.max(y_test_hat_softmax.data, 1)\n",
    "\n",
    "# Accuracy\n",
    "accuracy_score(y_test, y_test_hat.indices)"
   ]
  },
  {
   "cell_type": "code",
   "execution_count": 11,
   "metadata": {},
   "outputs": [
    {
     "name": "stdout",
     "output_type": "stream",
     "text": [
      "Naive Classifier: 43.333333333333336 %\n"
     ]
    }
   ],
   "source": [
    "\n",
    "from collections import Counter\n",
    "most_common_cnt = Counter(y_test).most_common()[0][1]\n",
    "print(f\"Naive Classifier: {most_common_cnt / len(y_test) * 100} %\")"
   ]
  }
 ],
 "metadata": {
  "kernelspec": {
   "display_name": "Python 3",
   "language": "python",
   "name": "python3"
  },
  "language_info": {
   "codemirror_mode": {
    "name": "ipython",
    "version": 3
   },
   "file_extension": ".py",
   "mimetype": "text/x-python",
   "name": "python",
   "nbconvert_exporter": "python",
   "pygments_lexer": "ipython3",
   "version": "3.9.10"
  },
  "orig_nbformat": 4,
  "vscode": {
   "interpreter": {
    "hash": "aac16c045827a40694571c32a5eab65b3bafe70755c551bce7e5d51e33df358c"
   }
  }
 },
 "nbformat": 4,
 "nbformat_minor": 2
}
