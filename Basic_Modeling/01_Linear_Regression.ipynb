{
 "cells": [
  {
   "cell_type": "code",
   "execution_count": 1,
   "metadata": {},
   "outputs": [],
   "source": [
    "import numpy as np\n",
    "import pandas as pd\n",
    "import matplotlib.pyplot as plt\n",
    "import seaborn as sns\n",
    "from sklearn.model_selection import train_test_split\n",
    "import torch\n",
    "import torch.nn as nn\n"
   ]
  },
  {
   "cell_type": "code",
   "execution_count": 2,
   "metadata": {},
   "outputs": [
    {
     "data": {
      "text/plain": [
       "<AxesSubplot:xlabel='wt', ylabel='mpg'>"
      ]
     },
     "execution_count": 2,
     "metadata": {},
     "output_type": "execute_result"
    },
    {
     "data": {
      "image/png": "[encoded data removed]",
      "text/plain": [
       "<Figure size 432x288 with 1 Axes>"
      ]
     },
     "metadata": {
      "needs_background": "light"
     },
     "output_type": "display_data"
    }
   ],
   "source": [
    "cars_file = 'https://gist.githubusercontent.com/noamross/e5d3e859aa0c794be10b/raw/b999fb4425b54c63cab088c0ce2c0d6ce961a563/cars.csv'\n",
    "cars = pd.read_csv(cars_file)\n",
    "\n",
    "sns.scatterplot(x='wt', y='mpg', data=cars)\n",
    "sns.regplot(x='wt', y='mpg', data=cars)\n"
   ]
  },
  {
   "cell_type": "code",
   "execution_count": 3,
   "metadata": {},
   "outputs": [
    {
     "data": {
      "text/html": [
       "<div>\n",
       "<style scoped>\n",
       "    .dataframe tbody tr th:only-of-type {\n",
       "        vertical-align: middle;\n",
       "    }\n",
       "\n",
       "    .dataframe tbody tr th {\n",
       "        vertical-align: top;\n",
       "    }\n",
       "\n",
       "    .dataframe thead th {\n",
       "        text-align: right;\n",
       "    }\n",
       "</style>\n",
       "<table border=\"1\" class=\"dataframe\">\n",
       "  <thead>\n",
       "    <tr style=\"text-align: right;\">\n",
       "      <th></th>\n",
       "      <th>Unnamed: 0</th>\n",
       "      <th>mpg</th>\n",
       "      <th>cyl</th>\n",
       "      <th>disp</th>\n",
       "      <th>hp</th>\n",
       "      <th>drat</th>\n",
       "      <th>wt</th>\n",
       "      <th>qsec</th>\n",
       "      <th>vs</th>\n",
       "      <th>am</th>\n",
       "      <th>gear</th>\n",
       "      <th>carb</th>\n",
       "    </tr>\n",
       "  </thead>\n",
       "  <tbody>\n",
       "    <tr>\n",
       "      <th>0</th>\n",
       "      <td>Mazda RX4</td>\n",
       "      <td>21.0</td>\n",
       "      <td>6</td>\n",
       "      <td>160.0</td>\n",
       "      <td>110</td>\n",
       "      <td>3.90</td>\n",
       "      <td>2.620</td>\n",
       "      <td>16.46</td>\n",
       "      <td>0</td>\n",
       "      <td>1</td>\n",
       "      <td>4</td>\n",
       "      <td>4</td>\n",
       "    </tr>\n",
       "    <tr>\n",
       "      <th>1</th>\n",
       "      <td>Mazda RX4 Wag</td>\n",
       "      <td>21.0</td>\n",
       "      <td>6</td>\n",
       "      <td>160.0</td>\n",
       "      <td>110</td>\n",
       "      <td>3.90</td>\n",
       "      <td>2.875</td>\n",
       "      <td>17.02</td>\n",
       "      <td>0</td>\n",
       "      <td>1</td>\n",
       "      <td>4</td>\n",
       "      <td>4</td>\n",
       "    </tr>\n",
       "    <tr>\n",
       "      <th>2</th>\n",
       "      <td>Datsun 710</td>\n",
       "      <td>22.8</td>\n",
       "      <td>4</td>\n",
       "      <td>108.0</td>\n",
       "      <td>93</td>\n",
       "      <td>3.85</td>\n",
       "      <td>2.320</td>\n",
       "      <td>18.61</td>\n",
       "      <td>1</td>\n",
       "      <td>1</td>\n",
       "      <td>4</td>\n",
       "      <td>1</td>\n",
       "    </tr>\n",
       "    <tr>\n",
       "      <th>3</th>\n",
       "      <td>Hornet 4 Drive</td>\n",
       "      <td>21.4</td>\n",
       "      <td>6</td>\n",
       "      <td>258.0</td>\n",
       "      <td>110</td>\n",
       "      <td>3.08</td>\n",
       "      <td>3.215</td>\n",
       "      <td>19.44</td>\n",
       "      <td>1</td>\n",
       "      <td>0</td>\n",
       "      <td>3</td>\n",
       "      <td>1</td>\n",
       "    </tr>\n",
       "    <tr>\n",
       "      <th>4</th>\n",
       "      <td>Hornet Sportabout</td>\n",
       "      <td>18.7</td>\n",
       "      <td>8</td>\n",
       "      <td>360.0</td>\n",
       "      <td>175</td>\n",
       "      <td>3.15</td>\n",
       "      <td>3.440</td>\n",
       "      <td>17.02</td>\n",
       "      <td>0</td>\n",
       "      <td>0</td>\n",
       "      <td>3</td>\n",
       "      <td>2</td>\n",
       "    </tr>\n",
       "  </tbody>\n",
       "</table>\n",
       "</div>"
      ],
      "text/plain": [
       "          Unnamed: 0   mpg  cyl   disp   hp  drat     wt   qsec  vs  am  gear  \\\n",
       "0          Mazda RX4  21.0    6  160.0  110  3.90  2.620  16.46   0   1     4   \n",
       "1      Mazda RX4 Wag  21.0    6  160.0  110  3.90  2.875  17.02   0   1     4   \n",
       "2         Datsun 710  22.8    4  108.0   93  3.85  2.320  18.61   1   1     4   \n",
       "3     Hornet 4 Drive  21.4    6  258.0  110  3.08  3.215  19.44   1   0     3   \n",
       "4  Hornet Sportabout  18.7    8  360.0  175  3.15  3.440  17.02   0   0     3   \n",
       "\n",
       "   carb  \n",
       "0     4  \n",
       "1     4  \n",
       "2     1  \n",
       "3     1  \n",
       "4     2  "
      ]
     },
     "execution_count": 3,
     "metadata": {},
     "output_type": "execute_result"
    }
   ],
   "source": [
    "cars.head()\n"
   ]
  },
  {
   "cell_type": "code",
   "execution_count": 4,
   "metadata": {},
   "outputs": [
    {
     "data": {
      "text/plain": [
       "array([[2.62 ],\n",
       "       [2.875],\n",
       "       [2.32 ],\n",
       "       [3.215],\n",
       "       [3.44 ],\n",
       "       [3.46 ],\n",
       "       [3.57 ],\n",
       "       [3.19 ],\n",
       "       [3.15 ],\n",
       "       [3.44 ],\n",
       "       [3.44 ],\n",
       "       [4.07 ],\n",
       "       [3.73 ],\n",
       "       [3.78 ],\n",
       "       [5.25 ],\n",
       "       [5.424],\n",
       "       [5.345],\n",
       "       [2.2  ],\n",
       "       [1.615],\n",
       "       [1.835],\n",
       "       [2.465],\n",
       "       [3.52 ],\n",
       "       [3.435],\n",
       "       [3.84 ],\n",
       "       [3.845],\n",
       "       [1.935],\n",
       "       [2.14 ],\n",
       "       [1.513],\n",
       "       [3.17 ],\n",
       "       [2.77 ],\n",
       "       [3.57 ],\n",
       "       [2.78 ]], dtype=float32)"
      ]
     },
     "execution_count": 4,
     "metadata": {},
     "output_type": "execute_result"
    }
   ],
   "source": [
    "x_list = cars.wt.values\n",
    "x_list = np.array(x_list, dtype=np.float32).reshape(-1, 1)\n",
    "x_list\n"
   ]
  },
  {
   "cell_type": "code",
   "execution_count": 5,
   "metadata": {},
   "outputs": [
    {
     "data": {
      "text/plain": [
       "array([21. , 21. , 22.8, 21.4, 18.7, 18.1, 14.3, 24.4, 22.8, 19.2, 17.8,\n",
       "       16.4, 17.3, 15.2, 10.4, 10.4, 14.7, 32.4, 30.4, 33.9, 21.5, 15.5,\n",
       "       15.2, 13.3, 19.2, 27.3, 26. , 30.4, 15.8, 19.7, 15. , 21.4],\n",
       "      dtype=float32)"
      ]
     },
     "execution_count": 5,
     "metadata": {},
     "output_type": "execute_result"
    }
   ],
   "source": [
    "y_list = cars.mpg.values\n",
    "y_list = np.array(y_list, dtype=np.float32)\n",
    "y_list\n"
   ]
  },
  {
   "cell_type": "code",
   "execution_count": 6,
   "metadata": {},
   "outputs": [
    {
     "data": {
      "text/plain": [
       "(tensor([[2.6200],\n",
       "         [2.8750],\n",
       "         [2.3200],\n",
       "         [3.2150],\n",
       "         [3.4400],\n",
       "         [3.4600],\n",
       "         [3.5700],\n",
       "         [3.1900],\n",
       "         [3.1500],\n",
       "         [3.4400],\n",
       "         [3.4400],\n",
       "         [4.0700],\n",
       "         [3.7300],\n",
       "         [3.7800],\n",
       "         [5.2500],\n",
       "         [5.4240],\n",
       "         [5.3450],\n",
       "         [2.2000],\n",
       "         [1.6150],\n",
       "         [1.8350],\n",
       "         [2.4650],\n",
       "         [3.5200],\n",
       "         [3.4350],\n",
       "         [3.8400],\n",
       "         [3.8450],\n",
       "         [1.9350],\n",
       "         [2.1400],\n",
       "         [1.5130],\n",
       "         [3.1700],\n",
       "         [2.7700],\n",
       "         [3.5700],\n",
       "         [2.7800]]),\n",
       " tensor([21.0000, 21.0000, 22.8000, 21.4000, 18.7000, 18.1000, 14.3000, 24.4000,\n",
       "         22.8000, 19.2000, 17.8000, 16.4000, 17.3000, 15.2000, 10.4000, 10.4000,\n",
       "         14.7000, 32.4000, 30.4000, 33.9000, 21.5000, 15.5000, 15.2000, 13.3000,\n",
       "         19.2000, 27.3000, 26.0000, 30.4000, 15.8000, 19.7000, 15.0000, 21.4000]))"
      ]
     },
     "execution_count": 6,
     "metadata": {},
     "output_type": "execute_result"
    }
   ],
   "source": [
    "X = torch.from_numpy(x_list)\n",
    "Y = torch.tensor(y_list)\n",
    "X, Y\n"
   ]
  },
  {
   "cell_type": "code",
   "execution_count": 7,
   "metadata": {},
   "outputs": [
    {
     "name": "stdout",
     "output_type": "stream",
     "text": [
      "epoch: 100 , loss: 11.60632038116455\n",
      "epoch: 200 , loss: 2.969069242477417\n",
      "epoch: 300 , loss: 0.4790532886981964\n",
      "epoch: 400 , loss: 0.0037069194950163364\n",
      "epoch: 500 , loss: 0.10603129118680954\n",
      "epoch: 600 , loss: 0.31618955731391907\n",
      "epoch: 700 , loss: 0.5001224875450134\n",
      "epoch: 800 , loss: 0.6335272192955017\n",
      "epoch: 900 , loss: 0.7229871153831482\n",
      "epoch: 1000 , loss: 0.7806752324104309\n"
     ]
    }
   ],
   "source": [
    "w = torch.rand(1, requires_grad=True, dtype=torch.float32)\n",
    "b = torch.rand(1, requires_grad=True, dtype=torch.float32)\n",
    "\n",
    "num_epochs = 1000\n",
    "lr = 1e-03\n",
    "\n",
    "for epoch in range(num_epochs):\n",
    "    for i in range(len(X)):\n",
    "        # forward pass\n",
    "        y_pred = w*X[i] + b\n",
    "\n",
    "        # loss calc\n",
    "        loss = (y_pred-Y[i])**2\n",
    "\n",
    "        # Gradient Calc\n",
    "        loss.backward()\n",
    "\n",
    "        # extract losses\n",
    "        loss_val = loss.data[0]\n",
    "\n",
    "        # update weights and biases\n",
    "        with torch.no_grad():\n",
    "            w -= w.grad*lr\n",
    "            b -= b.grad*lr\n",
    "            w.grad.zero_()\n",
    "            b.grad.zero_()\n",
    "\n",
    "    if ((epoch+1) % 100 == 0):\n",
    "        print(f'epoch: {epoch+1} , loss: {loss_val}')\n"
   ]
  },
  {
   "cell_type": "code",
   "execution_count": 8,
   "metadata": {},
   "outputs": [
    {
     "data": {
      "text/plain": [
       "array([21. , 21. , 22.8, 21.4, 18.7, 18.1, 14.3, 24.4, 22.8, 19.2, 17.8,\n",
       "       16.4, 17.3, 15.2, 10.4, 10.4, 14.7, 32.4, 30.4, 33.9, 21.5, 15.5,\n",
       "       15.2, 13.3, 19.2, 27.3, 26. , 30.4, 15.8, 19.7, 15. , 21.4],\n",
       "      dtype=float32)"
      ]
     },
     "execution_count": 8,
     "metadata": {},
     "output_type": "execute_result"
    }
   ],
   "source": [
    "y_list\n"
   ]
  },
  {
   "cell_type": "code",
   "execution_count": 9,
   "metadata": {},
   "outputs": [
    {
     "name": "stdout",
     "output_type": "stream",
     "text": [
      "weights: tensor([-5.2301]), bias: tensor([36.8078])\n",
      "[23.104954 21.771275 24.673986 19.993036 18.81626  18.711658 18.136347\n",
      " 20.123789 20.332993 18.81626  18.81626  15.52129  17.299528 17.038023\n",
      "  9.349758  8.43972   8.852898 25.3016   28.361214 27.21059  23.915619\n",
      " 18.397852 18.842411 16.724216 16.698065 26.68758  25.615406 28.894686\n",
      " 20.22839  22.320435 18.136347 22.268135]\n"
     ]
    },
    {
     "data": {
      "text/plain": [
       "<AxesSubplot:>"
      ]
     },
     "execution_count": 9,
     "metadata": {},
     "output_type": "execute_result"
    },
    {
     "data": {
      "image/png": "[encoded data removed]",
      "text/plain": [
       "<Figure size 432x288 with 1 Axes>"
      ]
     },
     "metadata": {
      "needs_background": "light"
     },
     "output_type": "display_data"
    }
   ],
   "source": [
    "print(f'weights: {w.data}, bias: {b.data}')\n",
    "\n",
    "y_pred = (w*X + b).detach().numpy()\n",
    "print(y_pred.reshape(-1))\n",
    "sns.scatterplot(x=x_list.reshape(-1), y=y_list)\n",
    "sns.lineplot(x=x_list.reshape(-1), y=y_pred.reshape(-1))\n"
   ]
  },
  {
   "cell_type": "code",
   "execution_count": 10,
   "metadata": {},
   "outputs": [
    {
     "name": "stdout",
     "output_type": "stream",
     "text": [
      "slope: [-5.3444715] intercept: 37.285125732421875\n"
     ]
    }
   ],
   "source": [
    "from sklearn.linear_model import LinearRegression\n",
    "reg = LinearRegression().fit(x_list, y_list)\n",
    "print(f'slope: {reg.coef_} intercept: {reg.intercept_}')\n"
   ]
  },
  {
   "cell_type": "code",
   "execution_count": 11,
   "metadata": {},
   "outputs": [],
   "source": [
    "# from torchviz import make_dot\n",
    "# import os\n",
    "# os.environ['PATH'] += os.pathsep+\"C:/Program Files (x86)/Graphviz/bin\"\n",
    "# make_dot(loss)\n"
   ]
  },
  {
   "attachments": {},
   "cell_type": "markdown",
   "metadata": {},
   "source": [
    "## Model CLass"
   ]
  },
  {
   "cell_type": "code",
   "execution_count": 12,
   "metadata": {},
   "outputs": [],
   "source": [
    "class LinearRegressionTorch(nn.Module):\n",
    "    def __init__(self, input_size, output_size):\n",
    "        super().__init__()\n",
    "        self.linear = nn.Linear(input_size, output_size)\n",
    "\n",
    "    def forward(self, x):\n",
    "        pred = self.linear(x)\n",
    "        return pred\n",
    "\n",
    "\n",
    "inputd = outputd = 1\n",
    "model = LinearRegressionTorch(inputd, outputd)\n"
   ]
  },
  {
   "cell_type": "code",
   "execution_count": 17,
   "metadata": {},
   "outputs": [
    {
     "name": "stdout",
     "output_type": "stream",
     "text": [
      "Epoch 99, Loss: 39.206451416015625\n",
      "Epoch 199, Loss: 25.291332244873047\n",
      "Epoch 299, Loss: 17.72292137145996\n",
      "Epoch 399, Loss: 13.606454849243164\n",
      "Epoch 499, Loss: 11.367502212524414\n",
      "Epoch 599, Loss: 10.149738311767578\n",
      "Epoch 699, Loss: 9.48740005493164\n",
      "Epoch 799, Loss: 9.127157211303711\n",
      "Epoch 899, Loss: 8.931219100952148\n",
      "Epoch 999, Loss: 8.82464599609375\n"
     ]
    }
   ],
   "source": [
    "loss_func = nn.MSELoss()\n",
    "lr = 0.02\n",
    "optimizer = torch.optim.SGD(model.parameters(), lr=lr)\n",
    "\n",
    "losses, slope, bias = [], [], []\n",
    "\n",
    "X = torch.from_numpy(x_list.astype(np.float32)).reshape(-1,1)\n",
    "Y_true = torch.from_numpy(y_list.astype(np.float32)).reshape(-1,1)\n",
    "\n",
    "epochs = 1000\n",
    "for epoch in range(epochs):\n",
    "    optimizer.zero_grad()  # Set gradients to 0\n",
    "\n",
    "    # forward pass\n",
    "    y_pred = model(X)\n",
    "\n",
    "    # compute loss\n",
    "    loss = loss_func(y_pred, Y_true)\n",
    "    loss.backward()\n",
    "\n",
    "    # update weights\n",
    "    optimizer.step()\n",
    "\n",
    "    # get params\n",
    "    for name, param in model.named_parameters():\n",
    "        if param.requires_grad:\n",
    "            if name == \"linear.weight\":\n",
    "                slope.append(param.data.numpy()[0][0])\n",
    "            if name == \"linear.bias\":\n",
    "                bias.append(param.data.numpy()[0])\n",
    "\n",
    "    # store loss\n",
    "    losses.append(float(loss.data))\n",
    "\n",
    "    if ((epoch+1) % 100 == 0):\n",
    "        print(f\"Epoch {epoch}, Loss: {loss.data}\")"
   ]
  },
  {
   "cell_type": "code",
   "execution_count": 18,
   "metadata": {},
   "outputs": [
    {
     "data": {
      "text/plain": [
       "<AxesSubplot:>"
      ]
     },
     "execution_count": 18,
     "metadata": {},
     "output_type": "execute_result"
    },
    {
     "data": {
      "image/png": "[encoded data removed]",
      "text/plain": [
       "<Figure size 432x288 with 1 Axes>"
      ]
     },
     "metadata": {
      "needs_background": "light"
     },
     "output_type": "display_data"
    }
   ],
   "source": [
    "# Visualize loss over each epoch\n",
    "sns.scatterplot(x=range(epochs), y=losses)"
   ]
  },
  {
   "cell_type": "code",
   "execution_count": 19,
   "metadata": {},
   "outputs": [
    {
     "data": {
      "text/plain": [
       "<AxesSubplot:>"
      ]
     },
     "execution_count": 19,
     "metadata": {},
     "output_type": "execute_result"
    },
    {
     "data": {
      "image/png": "[encoded data removed]",
      "text/plain": [
       "<Figure size 432x288 with 1 Axes>"
      ]
     },
     "metadata": {
      "needs_background": "light"
     },
     "output_type": "display_data"
    }
   ],
   "source": [
    "# Visualize the bias development and slope development\n",
    "sns.lineplot(x=range(epochs), y=bias)\n",
    "sns.lineplot(x=range(epochs), y=slope)"
   ]
  },
  {
   "cell_type": "code",
   "execution_count": 20,
   "metadata": {},
   "outputs": [
    {
     "data": {
      "text/plain": [
       "<AxesSubplot:>"
      ]
     },
     "execution_count": 20,
     "metadata": {},
     "output_type": "execute_result"
    },
    {
     "data": {
      "image/png": "[encoded data removed]",
      "text/plain": [
       "<Figure size 432x288 with 1 Axes>"
      ]
     },
     "metadata": {
      "needs_background": "light"
     },
     "output_type": "display_data"
    }
   ],
   "source": [
    "# check results\n",
    "y_pred = model(torch.tensor(x_list)).data.numpy().reshape(-1)\n",
    "sns.scatterplot(x=x_list.reshape(-1), y=y_list)\n",
    "sns.lineplot(x=x_list.reshape(-1), y=y_pred,color=\"red\")\n",
    "\n"
   ]
  },
  {
   "cell_type": "code",
   "execution_count": null,
   "metadata": {},
   "outputs": [],
   "source": []
  }
 ],
 "metadata": {
  "kernelspec": {
   "display_name": "Python 3",
   "language": "python",
   "name": "python3"
  },
  "language_info": {
   "codemirror_mode": {
    "name": "ipython",
    "version": 3
   },
   "file_extension": ".py",
   "mimetype": "text/x-python",
   "name": "python",
   "nbconvert_exporter": "python",
   "pygments_lexer": "ipython3",
   "version": "3.9.10"
  },
  "orig_nbformat": 4,
  "vscode": {
   "interpreter": {
    "hash": "aac16c045827a40694571c32a5eab65b3bafe70755c551bce7e5d51e33df358c"
   }
  }
 },
 "nbformat": 4,
 "nbformat_minor": 2
}
