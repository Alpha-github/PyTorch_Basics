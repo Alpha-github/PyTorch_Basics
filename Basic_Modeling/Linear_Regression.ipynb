{
 "cells": [
  {
   "cell_type": "code",
   "execution_count": 31,
   "metadata": {},
   "outputs": [],
   "source": [
    "import numpy as np\n",
    "import pandas as pd\n",
    "import matplotlib.pyplot as plt\n",
    "import seaborn as sns\n",
    "from sklearn.model_selection import train_test_split\n",
    "import torch\n",
    "import torch.nn as nn"
   ]
  },
  {
   "cell_type": "code",
   "execution_count": 32,
   "metadata": {},
   "outputs": [
    {
     "data": {
      "text/plain": [
       "<AxesSubplot:xlabel='wt', ylabel='mpg'>"
      ]
     },
     "execution_count": 32,
     "metadata": {},
     "output_type": "execute_result"
    },
    {
     "data": {
      "image/png": "[encoded data removed]",
      "text/plain": [
       "<Figure size 432x288 with 1 Axes>"
      ]
     },
     "metadata": {
      "needs_background": "light"
     },
     "output_type": "display_data"
    }
   ],
   "source": [
    "cars_file = 'https://gist.githubusercontent.com/noamross/e5d3e859aa0c794be10b/raw/b999fb4425b54c63cab088c0ce2c0d6ce961a563/cars.csv'\n",
    "cars = pd.read_csv(cars_file)\n",
    "\n",
    "sns.scatterplot(x='wt', y='mpg', data=cars)\n",
    "sns.regplot(x='wt', y='mpg', data=cars)"
   ]
  },
  {
   "cell_type": "code",
   "execution_count": 33,
   "metadata": {},
   "outputs": [
    {
     "data": {
      "text/html": [
       "<div>\n",
       "<style scoped>\n",
       "    .dataframe tbody tr th:only-of-type {\n",
       "        vertical-align: middle;\n",
       "    }\n",
       "\n",
       "    .dataframe tbody tr th {\n",
       "        vertical-align: top;\n",
       "    }\n",
       "\n",
       "    .dataframe thead th {\n",
       "        text-align: right;\n",
       "    }\n",
       "</style>\n",
       "<table border=\"1\" class=\"dataframe\">\n",
       "  <thead>\n",
       "    <tr style=\"text-align: right;\">\n",
       "      <th></th>\n",
       "      <th>Unnamed: 0</th>\n",
       "      <th>mpg</th>\n",
       "      <th>cyl</th>\n",
       "      <th>disp</th>\n",
       "      <th>hp</th>\n",
       "      <th>drat</th>\n",
       "      <th>wt</th>\n",
       "      <th>qsec</th>\n",
       "      <th>vs</th>\n",
       "      <th>am</th>\n",
       "      <th>gear</th>\n",
       "      <th>carb</th>\n",
       "    </tr>\n",
       "  </thead>\n",
       "  <tbody>\n",
       "    <tr>\n",
       "      <th>0</th>\n",
       "      <td>Mazda RX4</td>\n",
       "      <td>21.0</td>\n",
       "      <td>6</td>\n",
       "      <td>160.0</td>\n",
       "      <td>110</td>\n",
       "      <td>3.90</td>\n",
       "      <td>2.620</td>\n",
       "      <td>16.46</td>\n",
       "      <td>0</td>\n",
       "      <td>1</td>\n",
       "      <td>4</td>\n",
       "      <td>4</td>\n",
       "    </tr>\n",
       "    <tr>\n",
       "      <th>1</th>\n",
       "      <td>Mazda RX4 Wag</td>\n",
       "      <td>21.0</td>\n",
       "      <td>6</td>\n",
       "      <td>160.0</td>\n",
       "      <td>110</td>\n",
       "      <td>3.90</td>\n",
       "      <td>2.875</td>\n",
       "      <td>17.02</td>\n",
       "      <td>0</td>\n",
       "      <td>1</td>\n",
       "      <td>4</td>\n",
       "      <td>4</td>\n",
       "    </tr>\n",
       "    <tr>\n",
       "      <th>2</th>\n",
       "      <td>Datsun 710</td>\n",
       "      <td>22.8</td>\n",
       "      <td>4</td>\n",
       "      <td>108.0</td>\n",
       "      <td>93</td>\n",
       "      <td>3.85</td>\n",
       "      <td>2.320</td>\n",
       "      <td>18.61</td>\n",
       "      <td>1</td>\n",
       "      <td>1</td>\n",
       "      <td>4</td>\n",
       "      <td>1</td>\n",
       "    </tr>\n",
       "    <tr>\n",
       "      <th>3</th>\n",
       "      <td>Hornet 4 Drive</td>\n",
       "      <td>21.4</td>\n",
       "      <td>6</td>\n",
       "      <td>258.0</td>\n",
       "      <td>110</td>\n",
       "      <td>3.08</td>\n",
       "      <td>3.215</td>\n",
       "      <td>19.44</td>\n",
       "      <td>1</td>\n",
       "      <td>0</td>\n",
       "      <td>3</td>\n",
       "      <td>1</td>\n",
       "    </tr>\n",
       "    <tr>\n",
       "      <th>4</th>\n",
       "      <td>Hornet Sportabout</td>\n",
       "      <td>18.7</td>\n",
       "      <td>8</td>\n",
       "      <td>360.0</td>\n",
       "      <td>175</td>\n",
       "      <td>3.15</td>\n",
       "      <td>3.440</td>\n",
       "      <td>17.02</td>\n",
       "      <td>0</td>\n",
       "      <td>0</td>\n",
       "      <td>3</td>\n",
       "      <td>2</td>\n",
       "    </tr>\n",
       "  </tbody>\n",
       "</table>\n",
       "</div>"
      ],
      "text/plain": [
       "          Unnamed: 0   mpg  cyl   disp   hp  drat     wt   qsec  vs  am  gear  \\\n",
       "0          Mazda RX4  21.0    6  160.0  110  3.90  2.620  16.46   0   1     4   \n",
       "1      Mazda RX4 Wag  21.0    6  160.0  110  3.90  2.875  17.02   0   1     4   \n",
       "2         Datsun 710  22.8    4  108.0   93  3.85  2.320  18.61   1   1     4   \n",
       "3     Hornet 4 Drive  21.4    6  258.0  110  3.08  3.215  19.44   1   0     3   \n",
       "4  Hornet Sportabout  18.7    8  360.0  175  3.15  3.440  17.02   0   0     3   \n",
       "\n",
       "   carb  \n",
       "0     4  \n",
       "1     4  \n",
       "2     1  \n",
       "3     1  \n",
       "4     2  "
      ]
     },
     "execution_count": 33,
     "metadata": {},
     "output_type": "execute_result"
    }
   ],
   "source": [
    "cars.head()"
   ]
  },
  {
   "cell_type": "code",
   "execution_count": 34,
   "metadata": {},
   "outputs": [
    {
     "data": {
      "text/plain": [
       "array([[2.62 ],\n",
       "       [2.875],\n",
       "       [2.32 ],\n",
       "       [3.215],\n",
       "       [3.44 ],\n",
       "       [3.46 ],\n",
       "       [3.57 ],\n",
       "       [3.19 ],\n",
       "       [3.15 ],\n",
       "       [3.44 ],\n",
       "       [3.44 ],\n",
       "       [4.07 ],\n",
       "       [3.73 ],\n",
       "       [3.78 ],\n",
       "       [5.25 ],\n",
       "       [5.424],\n",
       "       [5.345],\n",
       "       [2.2  ],\n",
       "       [1.615],\n",
       "       [1.835],\n",
       "       [2.465],\n",
       "       [3.52 ],\n",
       "       [3.435],\n",
       "       [3.84 ],\n",
       "       [3.845],\n",
       "       [1.935],\n",
       "       [2.14 ],\n",
       "       [1.513],\n",
       "       [3.17 ],\n",
       "       [2.77 ],\n",
       "       [3.57 ],\n",
       "       [2.78 ]], dtype=float32)"
      ]
     },
     "execution_count": 34,
     "metadata": {},
     "output_type": "execute_result"
    }
   ],
   "source": [
    "x_list = cars.wt.values\n",
    "x_list = np.array(x_list,dtype=np.float32).reshape(-1,1)\n",
    "x_list"
   ]
  },
  {
   "cell_type": "code",
   "execution_count": 35,
   "metadata": {},
   "outputs": [
    {
     "data": {
      "text/plain": [
       "array([21. , 21. , 22.8, 21.4, 18.7, 18.1, 14.3, 24.4, 22.8, 19.2, 17.8,\n",
       "       16.4, 17.3, 15.2, 10.4, 10.4, 14.7, 32.4, 30.4, 33.9, 21.5, 15.5,\n",
       "       15.2, 13.3, 19.2, 27.3, 26. , 30.4, 15.8, 19.7, 15. , 21.4],\n",
       "      dtype=float32)"
      ]
     },
     "execution_count": 35,
     "metadata": {},
     "output_type": "execute_result"
    }
   ],
   "source": [
    "y_list = cars.mpg.values\n",
    "y_list = np.array(y_list,dtype=np.float32)\n",
    "y_list"
   ]
  },
  {
   "cell_type": "code",
   "execution_count": 36,
   "metadata": {},
   "outputs": [
    {
     "data": {
      "text/plain": [
       "(tensor([[2.6200],\n",
       "         [2.8750],\n",
       "         [2.3200],\n",
       "         [3.2150],\n",
       "         [3.4400],\n",
       "         [3.4600],\n",
       "         [3.5700],\n",
       "         [3.1900],\n",
       "         [3.1500],\n",
       "         [3.4400],\n",
       "         [3.4400],\n",
       "         [4.0700],\n",
       "         [3.7300],\n",
       "         [3.7800],\n",
       "         [5.2500],\n",
       "         [5.4240],\n",
       "         [5.3450],\n",
       "         [2.2000],\n",
       "         [1.6150],\n",
       "         [1.8350],\n",
       "         [2.4650],\n",
       "         [3.5200],\n",
       "         [3.4350],\n",
       "         [3.8400],\n",
       "         [3.8450],\n",
       "         [1.9350],\n",
       "         [2.1400],\n",
       "         [1.5130],\n",
       "         [3.1700],\n",
       "         [2.7700],\n",
       "         [3.5700],\n",
       "         [2.7800]]),\n",
       " tensor([21.0000, 21.0000, 22.8000, 21.4000, 18.7000, 18.1000, 14.3000, 24.4000,\n",
       "         22.8000, 19.2000, 17.8000, 16.4000, 17.3000, 15.2000, 10.4000, 10.4000,\n",
       "         14.7000, 32.4000, 30.4000, 33.9000, 21.5000, 15.5000, 15.2000, 13.3000,\n",
       "         19.2000, 27.3000, 26.0000, 30.4000, 15.8000, 19.7000, 15.0000, 21.4000]))"
      ]
     },
     "execution_count": 36,
     "metadata": {},
     "output_type": "execute_result"
    }
   ],
   "source": [
    "X = torch.from_numpy(x_list)\n",
    "Y = torch.tensor(y_list)\n",
    "X,Y"
   ]
  },
  {
   "cell_type": "code",
   "execution_count": 37,
   "metadata": {},
   "outputs": [
    {
     "name": "stdout",
     "output_type": "stream",
     "text": [
      "epoch: 100 , loss: 11.788858413696289\n",
      "epoch: 200 , loss: 3.0256214141845703\n",
      "epoch: 300 , loss: 0.4930124282836914\n",
      "epoch: 400 , loss: 0.004491736181080341\n",
      "epoch: 500 , loss: 0.10359344631433487\n",
      "epoch: 600 , loss: 0.3135908544063568\n",
      "epoch: 700 , loss: 0.49815505743026733\n",
      "epoch: 800 , loss: 0.6321160793304443\n",
      "epoch: 900 , loss: 0.7220500111579895\n",
      "epoch: 1000 , loss: 0.7800619006156921\n"
     ]
    }
   ],
   "source": [
    "w = torch.rand(1,requires_grad=True,dtype=torch.float32)\n",
    "b = torch.rand(1,requires_grad=True,dtype=torch.float32)\n",
    "\n",
    "num_epochs=1000\n",
    "lr = 1e-03\n",
    "\n",
    "for epoch in range(num_epochs):\n",
    "    for i in range(len(X)):\n",
    "        # forward pass\n",
    "        y_pred = w*X[i] + b\n",
    "\n",
    "        # loss calc\n",
    "        loss = (y_pred-Y[i])**2\n",
    "\n",
    "        # Gradient Calc\n",
    "        loss.backward()\n",
    "\n",
    "        #extract losses\n",
    "        loss_val = loss.data[0]\n",
    "\n",
    "        # update weights and biases\n",
    "        with torch.no_grad():\n",
    "            w -= w.grad*lr\n",
    "            b -= b.grad*lr\n",
    "            w.grad.zero_()\n",
    "            b.grad.zero_()\n",
    "    \n",
    "    if((epoch+1)%100==0):\n",
    "        print(f'epoch: {epoch+1} , loss: {loss_val}')\n",
    "        "
   ]
  },
  {
   "cell_type": "code",
   "execution_count": 41,
   "metadata": {},
   "outputs": [
    {
     "data": {
      "text/plain": [
       "array([21. , 21. , 22.8, 21.4, 18.7, 18.1, 14.3, 24.4, 22.8, 19.2, 17.8,\n",
       "       16.4, 17.3, 15.2, 10.4, 10.4, 14.7, 32.4, 30.4, 33.9, 21.5, 15.5,\n",
       "       15.2, 13.3, 19.2, 27.3, 26. , 30.4, 15.8, 19.7, 15. , 21.4],\n",
       "      dtype=float32)"
      ]
     },
     "execution_count": 41,
     "metadata": {},
     "output_type": "execute_result"
    }
   ],
   "source": [
    "y_list"
   ]
  },
  {
   "cell_type": "code",
   "execution_count": 49,
   "metadata": {},
   "outputs": [
    {
     "name": "stdout",
     "output_type": "stream",
     "text": [
      "weights: tensor([-5.2296]), bias: tensor([36.8061])\n",
      "[23.10453  21.77098  24.673416 19.992912 18.81625  18.711657 18.1364\n",
      " 20.123652 20.332836 18.81625  18.81625  15.521593 17.299662 17.038181\n",
      "  9.350653  8.440701  8.85384  25.300968 28.36029  27.209776 23.915121\n",
      " 18.39788  18.842398 16.724405 16.698256 26.686815 25.614744 28.893711\n",
      " 20.228245 22.32009  18.1364   22.267794]\n"
     ]
    },
    {
     "data": {
      "text/plain": [
       "<AxesSubplot:>"
      ]
     },
     "execution_count": 49,
     "metadata": {},
     "output_type": "execute_result"
    },
    {
     "data": {
      "image/png": "[encoded data removed]",
      "text/plain": [
       "<Figure size 432x288 with 1 Axes>"
      ]
     },
     "metadata": {
      "needs_background": "light"
     },
     "output_type": "display_data"
    }
   ],
   "source": [
    "print(f'weights: {w.data}, bias: {b.data}')\n",
    "\n",
    "y_pred = (w*X + b).detach().numpy()\n",
    "print(y_pred.reshape(-1))\n",
    "sns.scatterplot(x = x_list.reshape(-1),y = y_list)\n",
    "sns.lineplot(x =x_list.reshape(-1),y = y_pred.reshape(-1))"
   ]
  },
  {
   "cell_type": "code",
   "execution_count": 50,
   "metadata": {},
   "outputs": [
    {
     "name": "stdout",
     "output_type": "stream",
     "text": [
      "slope: [-5.3444715] intercept: 37.285125732421875\n"
     ]
    }
   ],
   "source": [
    "from sklearn.linear_model import LinearRegression\n",
    "reg = LinearRegression().fit(x_list,y_list)\n",
    "print(f'slope: {reg.coef_} intercept: {reg.intercept_}')"
   ]
  },
  {
   "cell_type": "code",
   "execution_count": null,
   "metadata": {},
   "outputs": [],
   "source": [
    "from torchviz import make_dot\n",
    "import os\n",
    "os.environ['PATH'] += os.pathsep+\"C:/Program Files (x86)/Graphviz/bin\"\n",
    "make_dot(loss)"
   ]
  }
 ],
 "metadata": {
  "kernelspec": {
   "display_name": "Python 3",
   "language": "python",
   "name": "python3"
  },
  "language_info": {
   "codemirror_mode": {
    "name": "ipython",
    "version": 3
   },
   "file_extension": ".py",
   "mimetype": "text/x-python",
   "name": "python",
   "nbconvert_exporter": "python",
   "pygments_lexer": "ipython3",
   "version": "3.9.10"
  },
  "orig_nbformat": 4,
  "vscode": {
   "interpreter": {
    "hash": "aac16c045827a40694571c32a5eab65b3bafe70755c551bce7e5d51e33df358c"
   }
  }
 },
 "nbformat": 4,
 "nbformat_minor": 2
}
