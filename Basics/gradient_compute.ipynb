{
 "cells": [
  {
   "cell_type": "code",
   "execution_count": 1,
   "metadata": {},
   "outputs": [],
   "source": [
    "import torch"
   ]
  },
  {
   "cell_type": "code",
   "execution_count": 2,
   "metadata": {},
   "outputs": [
    {
     "data": {
      "text/plain": [
       "tensor([ 0.0261, -1.1026, -0.8904], requires_grad=True)"
      ]
     },
     "execution_count": 2,
     "metadata": {},
     "output_type": "execute_result"
    }
   ],
   "source": [
    "x = torch.randn(3, requires_grad=True) # randn - values from -1 to 1\n",
    "x"
   ]
  },
  {
   "cell_type": "code",
   "execution_count": 3,
   "metadata": {},
   "outputs": [
    {
     "data": {
      "text/plain": [
       "tensor([2.0261, 0.8974, 1.1096], grad_fn=<AddBackward0>)"
      ]
     },
     "execution_count": 3,
     "metadata": {},
     "output_type": "execute_result"
    }
   ],
   "source": [
    "y = x + 2\n",
    "y # AddBackward refers to gradient func for backpropagation which is done later"
   ]
  },
  {
   "cell_type": "code",
   "execution_count": 4,
   "metadata": {},
   "outputs": [
    {
     "data": {
      "text/plain": [
       "tensor(4.0944, grad_fn=<MeanBackward0>)"
      ]
     },
     "execution_count": 4,
     "metadata": {},
     "output_type": "execute_result"
    }
   ],
   "source": [
    "z = y*y*2   # MulBackward is the gradient func\n",
    "z = z.mean() # MeanBackward \n",
    "z"
   ]
  },
  {
   "cell_type": "code",
   "execution_count": 5,
   "metadata": {},
   "outputs": [
    {
     "data": {
      "text/plain": [
       "tensor([2.7014, 1.1966, 1.4794])"
      ]
     },
     "execution_count": 5,
     "metadata": {},
     "output_type": "execute_result"
    }
   ],
   "source": [
    "# To calc gradient - Uses jacobian matrix\n",
    "z.backward()  # dz/dx\n",
    "x.grad # attribute which stores the gradient"
   ]
  },
  {
   "attachments": {},
   "cell_type": "markdown",
   "metadata": {},
   "source": [
    "Gradients for non-scalar ouputs:"
   ]
  },
  {
   "cell_type": "code",
   "execution_count": 6,
   "metadata": {},
   "outputs": [
    {
     "data": {
      "text/plain": [
       "tensor([3.5119, 4.7863, 1.4839])"
      ]
     },
     "execution_count": 6,
     "metadata": {},
     "output_type": "execute_result"
    }
   ],
   "source": [
    "# GRadient is only for scalars outputs, hence we give a vector\n",
    "z = y*y*2\n",
    "z\n",
    "v = torch.tensor([0.1,1.0,0.001], dtype=torch.float32)\n",
    "z.backward(v)\n",
    "x.grad"
   ]
  },
  {
   "attachments": {},
   "cell_type": "markdown",
   "metadata": {},
   "source": [
    "To Prevent tracking of the gradient functions: \n",
    "Eg: AddBackward, MulBackward, etc"
   ]
  },
  {
   "cell_type": "code",
   "execution_count": 7,
   "metadata": {},
   "outputs": [
    {
     "name": "stdout",
     "output_type": "stream",
     "text": [
      "tensor([-0.1388,  0.2173,  0.2086], requires_grad=True)\n",
      "tensor([-0.1388,  0.2173,  0.2086])\n",
      "tensor([-0.6757,  1.5364, -0.5599], requires_grad=True)\n",
      "tensor([-0.6757,  1.5364, -0.5599])\n",
      "tensor([ 0.7040, -0.6361,  0.4905], requires_grad=True)\n",
      "tensor([2.7040, 1.3639, 2.4905])\n"
     ]
    }
   ],
   "source": [
    "a = torch.randn(3, requires_grad=True)\n",
    "print(a)\n",
    "# to remove gradient\n",
    "a.requires_grad_(False)\n",
    "print(a)\n",
    "\n",
    "b = torch.randn(3, requires_grad=True)\n",
    "print(b)\n",
    "# to remove gradient\n",
    "b = b.detach()\n",
    "print(b)\n",
    "\n",
    "c = torch.randn(3, requires_grad=True)\n",
    "print(c)\n",
    "# Remove gradient\n",
    "with torch.no_grad():\n",
    "    d = c+2\n",
    "    print(d)"
   ]
  },
  {
   "attachments": {},
   "cell_type": "markdown",
   "metadata": {},
   "source": [
    "NOTE: Value of gradients in attribute \"grad\" gets summed, everytime we calc the gradient. Hence we need to clear it. To do so, we use {var}.grad.zero_()"
   ]
  },
  {
   "cell_type": "code",
   "execution_count": null,
   "metadata": {},
   "outputs": [],
   "source": []
  }
 ],
 "metadata": {
  "kernelspec": {
   "display_name": "Python 3",
   "language": "python",
   "name": "python3"
  },
  "language_info": {
   "codemirror_mode": {
    "name": "ipython",
    "version": 3
   },
   "file_extension": ".py",
   "mimetype": "text/x-python",
   "name": "python",
   "nbconvert_exporter": "python",
   "pygments_lexer": "ipython3",
   "version": "3.9.10"
  },
  "orig_nbformat": 4,
  "vscode": {
   "interpreter": {
    "hash": "aac16c045827a40694571c32a5eab65b3bafe70755c551bce7e5d51e33df358c"
   }
  }
 },
 "nbformat": 4,
 "nbformat_minor": 2
}
