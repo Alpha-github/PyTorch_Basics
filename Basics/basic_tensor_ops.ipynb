{
 "cells": [
  {
   "cell_type": "code",
   "execution_count": 1,
   "metadata": {},
   "outputs": [
    {
     "name": "stderr",
     "output_type": "stream",
     "text": [
      "d:\\Software\\Python\\Python39\\lib\\site-packages\\tqdm\\auto.py:22: TqdmWarning: IProgress not found. Please update jupyter and ipywidgets. See https://ipywidgets.readthedocs.io/en/stable/user_install.html\n",
      "  from .autonotebook import tqdm as notebook_tqdm\n"
     ]
    }
   ],
   "source": [
    "import torch"
   ]
  },
  {
   "cell_type": "code",
   "execution_count": 2,
   "metadata": {},
   "outputs": [
    {
     "name": "stdout",
     "output_type": "stream",
     "text": [
      "tensor([[1.0647e+24, 2.8231e+23, 2.7252e+20],\n",
      "        [2.6331e+20, 2.9172e+32, 1.8465e+25]])\n",
      "tensor([[[2.6483e-30, 8.5199e-43, 2.6483e-30],\n",
      "         [8.5199e-43, 2.6495e-30, 8.5199e-43]],\n",
      "\n",
      "        [[2.6495e-30, 8.5199e-43, 2.7533e-30],\n",
      "         [8.5199e-43, 2.7533e-30, 8.5199e-43]],\n",
      "\n",
      "        [[2.7983e-30, 8.5199e-43, 2.7983e-30],\n",
      "         [8.5199e-43, 2.7969e-30, 8.5199e-43]]])\n"
     ]
    }
   ],
   "source": [
    "x = torch.empty(2,3) #2D\n",
    "print(x)\n",
    "x = torch.empty(3,2,3) #3D\n",
    "print(x)"
   ]
  },
  {
   "cell_type": "code",
   "execution_count": 3,
   "metadata": {},
   "outputs": [
    {
     "data": {
      "text/plain": [
       "tensor([[0.5865, 0.0977],\n",
       "        [0.1363, 0.2484]])"
      ]
     },
     "execution_count": 3,
     "metadata": {},
     "output_type": "execute_result"
    }
   ],
   "source": [
    "x = torch.rand(2,2)\n",
    "x"
   ]
  },
  {
   "cell_type": "code",
   "execution_count": 4,
   "metadata": {},
   "outputs": [
    {
     "name": "stdout",
     "output_type": "stream",
     "text": [
      "tensor([[0., 0.],\n",
      "        [0., 0.]])\n"
     ]
    },
    {
     "data": {
      "text/plain": [
       "tensor([[1., 1.],\n",
       "        [1., 1.]])"
      ]
     },
     "execution_count": 4,
     "metadata": {},
     "output_type": "execute_result"
    }
   ],
   "source": [
    "x = torch.zeros(2,2)\n",
    "print(x)\n",
    "torch.ones(2,2)"
   ]
  },
  {
   "cell_type": "code",
   "execution_count": 5,
   "metadata": {},
   "outputs": [
    {
     "data": {
      "text/plain": [
       "tensor([[1, 1],\n",
       "        [1, 1]])"
      ]
     },
     "execution_count": 5,
     "metadata": {},
     "output_type": "execute_result"
    }
   ],
   "source": [
    "a = torch.ones(2,2,dtype=torch.int64)\n",
    "a"
   ]
  },
  {
   "cell_type": "code",
   "execution_count": 6,
   "metadata": {},
   "outputs": [
    {
     "data": {
      "text/plain": [
       "torch.Size([2, 2])"
      ]
     },
     "execution_count": 6,
     "metadata": {},
     "output_type": "execute_result"
    }
   ],
   "source": [
    "a.size()"
   ]
  },
  {
   "cell_type": "code",
   "execution_count": 7,
   "metadata": {},
   "outputs": [
    {
     "name": "stdout",
     "output_type": "stream",
     "text": [
      "tensor([[0.7331, 0.3299],\n",
      "        [0.8434, 0.9587]])\n",
      "tensor([[0.1596, 0.8263],\n",
      "        [0.1818, 0.0091]])\n",
      "tensor([[0.8927, 1.1561],\n",
      "        [1.0252, 0.9678]])\n",
      "tensor([[0.8927, 1.1561],\n",
      "        [1.0252, 0.9678]])\n"
     ]
    },
    {
     "data": {
      "text/plain": [
       "tensor([[0.8927, 1.1561],\n",
       "        [1.0252, 0.9678]])"
      ]
     },
     "execution_count": 7,
     "metadata": {},
     "output_type": "execute_result"
    }
   ],
   "source": [
    "x = torch.rand(2,2)\n",
    "y = torch.rand(2,2)\n",
    "print(x)\n",
    "print(y)\n",
    "z = x+y # elt-wise addition\n",
    "print(z)\n",
    "print(torch.add(x,y))\n",
    "y.add_(x)"
   ]
  },
  {
   "cell_type": "code",
   "execution_count": 8,
   "metadata": {},
   "outputs": [
    {
     "name": "stdout",
     "output_type": "stream",
     "text": [
      "tensor([[-0.1596, -0.8263],\n",
      "        [-0.1818, -0.0091]])\n",
      "tensor([[-0.1596, -0.8263],\n",
      "        [-0.1818, -0.0091]])\n",
      "tensor([[-0.1596, -0.8263],\n",
      "        [-0.1818, -0.0091]])\n"
     ]
    }
   ],
   "source": [
    "z = x-y\n",
    "print(z)\n",
    "print(torch.sub(x,y))\n",
    "print(x.sub_(y))"
   ]
  },
  {
   "cell_type": "code",
   "execution_count": 9,
   "metadata": {},
   "outputs": [
    {
     "name": "stdout",
     "output_type": "stream",
     "text": [
      "tensor([[0.5385, 0.7412, 0.7181],\n",
      "        [0.9319, 0.3600, 0.5300],\n",
      "        [0.3178, 0.5406, 0.2506],\n",
      "        [0.4703, 0.7394, 0.9739],\n",
      "        [0.8801, 0.4458, 0.6060]])\n",
      "tensor([0.5385, 0.9319, 0.3178, 0.4703, 0.8801])\n",
      "tensor([0.9319, 0.3600, 0.5300])\n",
      "tensor(0.3600)\n",
      "0.36001068353652954\n"
     ]
    }
   ],
   "source": [
    "x = torch.rand(5,3)\n",
    "print(x)\n",
    "print(x[:,0])\n",
    "print(x[1,:])\n",
    "print(x[1,1])\n",
    "print(x[1,1].item())"
   ]
  },
  {
   "cell_type": "code",
   "execution_count": 10,
   "metadata": {},
   "outputs": [
    {
     "name": "stdout",
     "output_type": "stream",
     "text": [
      "tensor([[0.5047, 0.3086, 0.4698, 0.7293],\n",
      "        [0.2339, 0.3650, 0.0155, 0.3900],\n",
      "        [0.6969, 0.8538, 0.1781, 0.1227],\n",
      "        [0.4908, 0.9424, 0.5665, 0.9583]])\n",
      "tensor([0.5047, 0.3086, 0.4698, 0.7293, 0.2339, 0.3650, 0.0155, 0.3900, 0.6969,\n",
      "        0.8538, 0.1781, 0.1227, 0.4908, 0.9424, 0.5665, 0.9583])\n",
      "tensor([[0.5047, 0.3086, 0.4698, 0.7293, 0.2339, 0.3650, 0.0155, 0.3900],\n",
      "        [0.6969, 0.8538, 0.1781, 0.1227, 0.4908, 0.9424, 0.5665, 0.9583]])\n"
     ]
    }
   ],
   "source": [
    "x= torch.rand(4,4)\n",
    "print(x)\n",
    "y = x.view(16)\n",
    "print(y)\n",
    "z = x.view(-1,8) # if we give -1, pytorch will automatically set the right size\n",
    "print(z)"
   ]
  },
  {
   "cell_type": "code",
   "execution_count": 11,
   "metadata": {},
   "outputs": [],
   "source": [
    "import numpy as np"
   ]
  },
  {
   "cell_type": "code",
   "execution_count": 12,
   "metadata": {},
   "outputs": [
    {
     "name": "stdout",
     "output_type": "stream",
     "text": [
      "tensor([1., 1., 1., 1., 1.])\n",
      "[1. 1. 1. 1. 1.]\n",
      "tensor([2., 2., 2., 2., 2.]) [2. 2. 2. 2. 2.]\n",
      "[1. 1. 1. 1. 1.]\n",
      "tensor([1., 1., 1., 1., 1.], dtype=torch.float64)\n",
      "[2. 2. 2. 2. 2.] tensor([2., 2., 2., 2., 2.], dtype=torch.float64)\n"
     ]
    }
   ],
   "source": [
    "# Tensor to numpy array\n",
    "a = torch.ones(5)\n",
    "print(a)\n",
    "b = a.numpy()\n",
    "print(b)\n",
    "\n",
    "a.add_(1)\n",
    "print(a,b)  # a and b point to the same memory location (mutable)\n",
    "\n",
    "# Numpy to Tensor\n",
    "a = np.ones(5)\n",
    "print(a)\n",
    "b = torch.from_numpy(a)\n",
    "print(b)\n",
    "a += 1\n",
    "print(a,b)  # a and b point to the same memory location (mutable)\n",
    "\n",
    "# a an b point to same memory location only in CPU, NOT in GPU"
   ]
  },
  {
   "cell_type": "code",
   "execution_count": 13,
   "metadata": {},
   "outputs": [
    {
     "name": "stdout",
     "output_type": "stream",
     "text": [
      "yes\n",
      "tensor([2., 2., 2., 2., 2.])\n"
     ]
    }
   ],
   "source": [
    "if torch.cuda.is_available():\n",
    "    print(\"yes\")\n",
    "    device = torch.device(\"cuda\")\n",
    "    x = torch.ones(5, device=device)\n",
    "    y = torch.ones(5)\n",
    "    y = y.to(device)\n",
    "    z = x+y\n",
    "    z = z.to(\"cpu\")\n",
    "    print(z)\n"
   ]
  },
  {
   "cell_type": "code",
   "execution_count": 14,
   "metadata": {},
   "outputs": [
    {
     "data": {
      "text/plain": [
       "True"
      ]
     },
     "execution_count": 14,
     "metadata": {},
     "output_type": "execute_result"
    }
   ],
   "source": [
    "torch.cuda.is_available()"
   ]
  }
 ],
 "metadata": {
  "kernelspec": {
   "display_name": "Python 3",
   "language": "python",
   "name": "python3"
  },
  "language_info": {
   "codemirror_mode": {
    "name": "ipython",
    "version": 3
   },
   "file_extension": ".py",
   "mimetype": "text/x-python",
   "name": "python",
   "nbconvert_exporter": "python",
   "pygments_lexer": "ipython3",
   "version": "3.9.10 (tags/v3.9.10:f2f3f53, Jan 17 2022, 15:14:21) [MSC v.1929 64 bit (AMD64)]"
  },
  "orig_nbformat": 4,
  "vscode": {
   "interpreter": {
    "hash": "aac16c045827a40694571c32a5eab65b3bafe70755c551bce7e5d51e33df358c"
   }
  }
 },
 "nbformat": 4,
 "nbformat_minor": 2
}
